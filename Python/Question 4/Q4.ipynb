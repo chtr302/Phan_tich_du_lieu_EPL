{
 "cells": [
  {
   "cell_type": "markdown",
   "metadata": {},
   "source": [
    "Question 4\n"
   ]
  },
  {
   "cell_type": "code",
   "execution_count": 1,
   "metadata": {},
   "outputs": [
    {
     "name": "stderr",
     "output_type": "stream",
     "text": [
      "<>:4: SyntaxWarning: invalid escape sequence '\\H'\n",
      "<>:4: SyntaxWarning: invalid escape sequence '\\H'\n",
      "C:\\Users\\tranc\\AppData\\Local\\Temp\\ipykernel_11284\\2549171557.py:4: SyntaxWarning: invalid escape sequence '\\H'\n",
      "  data = pd.read_excel(\"D:\\H\\TranCongHau_N22DCCI010\\Data\\matches_use_3.xlsx\")\n"
     ]
    }
   ],
   "source": [
    "import pandas as pd\n",
    "import matplotlib.pyplot as plt\n",
    "\n",
    "data = pd.read_excel(\"D:\\H\\TranCongHau_N22DCCI010\\Data\\matches_use_3.xlsx\")\n",
    "\n",
    "streaks = {}\n",
    "\n",
    "write = pd.DataFrame(columns=['Season','Club','Max Streaks'])"
   ]
  },
  {
   "cell_type": "code",
   "execution_count": 2,
   "metadata": {},
   "outputs": [
    {
     "data": {
      "text/html": [
       "<div>\n",
       "<style scoped>\n",
       "    .dataframe tbody tr th:only-of-type {\n",
       "        vertical-align: middle;\n",
       "    }\n",
       "\n",
       "    .dataframe tbody tr th {\n",
       "        vertical-align: top;\n",
       "    }\n",
       "\n",
       "    .dataframe thead th {\n",
       "        text-align: right;\n",
       "    }\n",
       "</style>\n",
       "<table border=\"1\" class=\"dataframe\">\n",
       "  <thead>\n",
       "    <tr style=\"text-align: right;\">\n",
       "      <th></th>\n",
       "      <th>Crystal Palace</th>\n",
       "      <th>Fulham</th>\n",
       "      <th>Tottenham</th>\n",
       "      <th>Newcastle Utd</th>\n",
       "      <th>Leeds United</th>\n",
       "      <th>Bournemouth</th>\n",
       "      <th>Everton</th>\n",
       "      <th>Leicester City</th>\n",
       "      <th>Manchester Utd</th>\n",
       "      <th>West Ham</th>\n",
       "      <th>Aston Villa</th>\n",
       "      <th>Manchester City</th>\n",
       "      <th>Southampton</th>\n",
       "      <th>Wolves</th>\n",
       "      <th>Arsenal</th>\n",
       "      <th>Brighton</th>\n",
       "      <th>Brentford</th>\n",
       "      <th>Nott'ham Forest</th>\n",
       "      <th>Chelsea</th>\n",
       "      <th>Liverpool</th>\n",
       "    </tr>\n",
       "  </thead>\n",
       "  <tbody>\n",
       "    <tr>\n",
       "      <th>max</th>\n",
       "      <td>3</td>\n",
       "      <td>4</td>\n",
       "      <td>2</td>\n",
       "      <td>6</td>\n",
       "      <td>2</td>\n",
       "      <td>2</td>\n",
       "      <td>2</td>\n",
       "      <td>2</td>\n",
       "      <td>5</td>\n",
       "      <td>2</td>\n",
       "      <td>5</td>\n",
       "      <td>12</td>\n",
       "      <td>1</td>\n",
       "      <td>2</td>\n",
       "      <td>7</td>\n",
       "      <td>2</td>\n",
       "      <td>3</td>\n",
       "      <td>2</td>\n",
       "      <td>4</td>\n",
       "      <td>7</td>\n",
       "    </tr>\n",
       "    <tr>\n",
       "      <th>current</th>\n",
       "      <td>0</td>\n",
       "      <td>0</td>\n",
       "      <td>1</td>\n",
       "      <td>0</td>\n",
       "      <td>0</td>\n",
       "      <td>0</td>\n",
       "      <td>1</td>\n",
       "      <td>1</td>\n",
       "      <td>4</td>\n",
       "      <td>0</td>\n",
       "      <td>1</td>\n",
       "      <td>0</td>\n",
       "      <td>0</td>\n",
       "      <td>0</td>\n",
       "      <td>1</td>\n",
       "      <td>0</td>\n",
       "      <td>3</td>\n",
       "      <td>0</td>\n",
       "      <td>0</td>\n",
       "      <td>0</td>\n",
       "    </tr>\n",
       "  </tbody>\n",
       "</table>\n",
       "</div>"
      ],
      "text/plain": [
       "         Crystal Palace  Fulham  Tottenham  Newcastle Utd  Leeds United  \\\n",
       "max                   3       4          2              6             2   \n",
       "current               0       0          1              0             0   \n",
       "\n",
       "         Bournemouth  Everton  Leicester City  Manchester Utd  West Ham  \\\n",
       "max                2        2               2               5         2   \n",
       "current            0        1               1               4         0   \n",
       "\n",
       "         Aston Villa  Manchester City  Southampton  Wolves  Arsenal  Brighton  \\\n",
       "max                5               12            1       2        7         2   \n",
       "current            1                0            0       0        1         0   \n",
       "\n",
       "         Brentford  Nott'ham Forest  Chelsea  Liverpool  \n",
       "max              3                2        4          7  \n",
       "current          3                0        0          0  "
      ]
     },
     "execution_count": 2,
     "metadata": {},
     "output_type": "execute_result"
    }
   ],
   "source": [
    "for season in data['Season_End_Year'].unique():\n",
    "    season_data = data[data['Season_End_Year'] == season]\n",
    "    streaks = {team:{'max':0, 'current':0} for team in pd.concat([season_data['Home'], season_data['Away']]).unique()}\n",
    "\n",
    "    for ind, row in season_data.iterrows():\n",
    "        home_team = row['Home']\n",
    "        away_team = row['Away']\n",
    "        result = row['FTR']\n",
    "\n",
    "        if result == 'H':\n",
    "            streaks[home_team]['current'] += 1\n",
    "            streaks[home_team]['max'] = max(streaks[home_team]['max'], streaks[home_team]['current'])\n",
    "            streaks[away_team]['current'] = 0\n",
    "        elif result == 'A':\n",
    "            streaks[away_team]['current'] += 1\n",
    "            streaks[away_team]['max'] = max(streaks[away_team]['max'], streaks[away_team]['current'])\n",
    "            streaks[home_team]['current'] = 0\n",
    "        else:\n",
    "            streaks[home_team]['current'] = 0\n",
    "            streaks[away_team]['current'] = 0\n",
    "\n",
    "    max_streaks_team = max(streaks, key=lambda team:streaks[team]['max'])\n",
    "    max_streaks = streaks[max_streaks_team]['max']\n",
    "\n",
    "    new_row = pd.DataFrame({'Season': [season], 'Club': [max_streaks_team], 'Max Streaks': [max_streaks]})\n",
    "    write = pd.concat([write, new_row], ignore_index=True)\n",
    "\n",
    "streaks = pd.DataFrame(streaks)\n",
    "streaks"
   ]
  },
  {
   "cell_type": "code",
   "execution_count": 7,
   "metadata": {},
   "outputs": [
    {
     "name": "stderr",
     "output_type": "stream",
     "text": [
      "<>:1: SyntaxWarning: invalid escape sequence '\\H'\n",
      "<>:1: SyntaxWarning: invalid escape sequence '\\H'\n",
      "C:\\Users\\tranc\\AppData\\Local\\Temp\\ipykernel_10268\\1348235886.py:1: SyntaxWarning: invalid escape sequence '\\H'\n",
      "  data_map = pd.read_excel('D:\\H\\TranCongHau_N22DCCI010\\Python\\Question 4\\streaks.xlsx')\n"
     ]
    },
    {
     "data": {
      "image/png": "[encoded data removed]",
      "text/plain": [
       "<Figure size 1000x500 with 1 Axes>"
      ]
     },
     "metadata": {},
     "output_type": "display_data"
    }
   ],
   "source": [
    "data_map = pd.read_excel('D:\\H\\TranCongHau_N22DCCI010\\Python\\Question 4\\streaks.xlsx')\n",
    "\n",
    "max_streaks = {}\n",
    "\n",
    "for i, row in data_map.iterrows():\n",
    "    team = row['Club']\n",
    "    streaks = row['Max Streaks']\n",
    "\n",
    "    if team not in max_streaks or streaks > max_streaks[team]:\n",
    "        max_streaks[team] = streaks\n",
    "\n",
    "\n",
    "plt.figure(figsize=(10, 5))\n",
    "plt.barh(list(max_streaks.keys()), list(max_streaks.values()))\n",
    "plt.xlabel('Club')\n",
    "plt.ylabel('Max Streaks')\n",
    "plt.title('Max Streaks by Club')\n",
    "plt.xticks(rotation=0)\n",
    "plt.show()"
   ]
  }
 ],
 "metadata": {
  "kernelspec": {
   "display_name": "Python 3",
   "language": "python",
   "name": "python3"
  },
  "language_info": {
   "codemirror_mode": {
    "name": "ipython",
    "version": 3
   },
   "file_extension": ".py",
   "mimetype": "text/x-python",
   "name": "python",
   "nbconvert_exporter": "python",
   "pygments_lexer": "ipython3",
   "version": "3.12.0"
  }
 },
 "nbformat": 4,
 "nbformat_minor": 2
}
