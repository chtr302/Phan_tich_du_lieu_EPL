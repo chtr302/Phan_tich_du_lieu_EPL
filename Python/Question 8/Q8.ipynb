{
 "cells": [
  {
   "cell_type": "markdown",
   "metadata": {},
   "source": [
    "Question 8"
   ]
  },
  {
   "cell_type": "code",
   "execution_count": 2,
   "metadata": {},
   "outputs": [
    {
     "name": "stderr",
     "output_type": "stream",
     "text": [
      "<>:4: SyntaxWarning: invalid escape sequence '\\H'\n",
      "<>:4: SyntaxWarning: invalid escape sequence '\\H'\n",
      "C:\\Users\\tranc\\AppData\\Local\\Temp\\ipykernel_8100\\1732999334.py:4: SyntaxWarning: invalid escape sequence '\\H'\n",
      "  data = pd.read_excel(\"D:\\H\\TranCongHau_N22DCCI010\\Data\\matches_use_3.xlsx\")\n"
     ]
    }
   ],
   "source": [
    "import pandas as pd\n",
    "import matplotlib.pyplot as plt\n",
    "\n",
    "data = pd.read_excel(\"D:\\H\\TranCongHau_N22DCCI010\\Data\\matches_use_3.xlsx\")"
   ]
  },
  {
   "cell_type": "code",
   "execution_count": 3,
   "metadata": {},
   "outputs": [
    {
     "data": {
      "text/html": [
       "<div>\n",
       "<style scoped>\n",
       "    .dataframe tbody tr th:only-of-type {\n",
       "        vertical-align: middle;\n",
       "    }\n",
       "\n",
       "    .dataframe tbody tr th {\n",
       "        vertical-align: top;\n",
       "    }\n",
       "\n",
       "    .dataframe thead th {\n",
       "        text-align: right;\n",
       "    }\n",
       "</style>\n",
       "<table border=\"1\" class=\"dataframe\">\n",
       "  <thead>\n",
       "    <tr style=\"text-align: right;\">\n",
       "      <th></th>\n",
       "      <th>Crystal Palace</th>\n",
       "      <th>Arsenal</th>\n",
       "      <th>Fulham</th>\n",
       "      <th>Liverpool</th>\n",
       "      <th>Tottenham</th>\n",
       "      <th>Southampton</th>\n",
       "      <th>Newcastle Utd</th>\n",
       "      <th>Nott'ham Forest</th>\n",
       "      <th>Leeds United</th>\n",
       "      <th>Wolves</th>\n",
       "      <th>Bournemouth</th>\n",
       "      <th>Aston Villa</th>\n",
       "      <th>Everton</th>\n",
       "      <th>Chelsea</th>\n",
       "      <th>Leicester City</th>\n",
       "      <th>Brentford</th>\n",
       "      <th>Manchester Utd</th>\n",
       "      <th>Brighton</th>\n",
       "      <th>West Ham</th>\n",
       "      <th>Manchester City</th>\n",
       "    </tr>\n",
       "  </thead>\n",
       "  <tbody>\n",
       "    <tr>\n",
       "      <th>match</th>\n",
       "      <td>9</td>\n",
       "      <td>14</td>\n",
       "      <td>9</td>\n",
       "      <td>14</td>\n",
       "      <td>10</td>\n",
       "      <td>4</td>\n",
       "      <td>14</td>\n",
       "      <td>8</td>\n",
       "      <td>5</td>\n",
       "      <td>11</td>\n",
       "      <td>8</td>\n",
       "      <td>12</td>\n",
       "      <td>9</td>\n",
       "      <td>10</td>\n",
       "      <td>7</td>\n",
       "      <td>12</td>\n",
       "      <td>17</td>\n",
       "      <td>12</td>\n",
       "      <td>9</td>\n",
       "      <td>13</td>\n",
       "    </tr>\n",
       "  </tbody>\n",
       "</table>\n",
       "</div>"
      ],
      "text/plain": [
       "       Crystal Palace  Arsenal  Fulham  Liverpool  Tottenham  Southampton  \\\n",
       "match               9       14       9         14         10            4   \n",
       "\n",
       "       Newcastle Utd  Nott'ham Forest  Leeds United  Wolves  Bournemouth  \\\n",
       "match             14                8             5      11            8   \n",
       "\n",
       "       Aston Villa  Everton  Chelsea  Leicester City  Brentford  \\\n",
       "match           12        9       10               7         12   \n",
       "\n",
       "       Manchester Utd  Brighton  West Ham  Manchester City  \n",
       "match              17        12         9               13  "
      ]
     },
     "execution_count": 3,
     "metadata": {},
     "output_type": "execute_result"
    }
   ],
   "source": [
    "data_2023 = data[data['Season_End_Year'] == 2023]\n",
    "\n",
    "goal = {}\n",
    "\n",
    "for i, row in data_2023.iterrows():\n",
    "    home = row['Home']\n",
    "    away = row['Away']\n",
    "    homegoals = row['HomeGoals']\n",
    "    awaygoals = row['AwayGoals']\n",
    "    ftr = row['FTR']\n",
    "\n",
    "    if home not in goal:\n",
    "        goal[home] = {'match' : 0}\n",
    "    if away not in goal:\n",
    "        goal[away] = {'match' : 0}\n",
    "\n",
    "    if ftr == 'H':\n",
    "        if awaygoals == 0:\n",
    "            goal[home]['match'] += 1\n",
    "    elif ftr == 'A':\n",
    "        if homegoals == 0:\n",
    "            goal[away]['match'] += 1\n",
    "    else:\n",
    "        if homegoals == 0 and awaygoals == 0:\n",
    "            goal[home]['match'] += 1\n",
    "            goal[away]['match'] += 1\n",
    "\n",
    "goal = pd.DataFrame(goal)\n",
    "goal"
   ]
  },
  {
   "cell_type": "code",
   "execution_count": 4,
   "metadata": {},
   "outputs": [
    {
     "name": "stderr",
     "output_type": "stream",
     "text": [
      "<>:1: SyntaxWarning: invalid escape sequence '\\H'\n",
      "<>:1: SyntaxWarning: invalid escape sequence '\\H'\n",
      "C:\\Users\\tranc\\AppData\\Local\\Temp\\ipykernel_8100\\810499247.py:1: SyntaxWarning: invalid escape sequence '\\H'\n",
      "  data_map = pd.read_excel('D:\\H\\TranCongHau_N22DCCI010\\Python\\Question 8\\Match 2023.xlsx')\n"
     ]
    },
    {
     "data": {
      "image/png": "[encoded data removed]",
      "text/plain": [
       "<Figure size 1000x500 with 1 Axes>"
      ]
     },
     "metadata": {},
     "output_type": "display_data"
    }
   ],
   "source": [
    "data_map = pd.read_excel('D:\\H\\TranCongHau_N22DCCI010\\Python\\Question 8\\Match 2023.xlsx')\n",
    "\n",
    "check_data = data_map[data_map['Match'] > 11]\n",
    "\n",
    "check_data.set_index('Club', inplace=True)\n",
    "check_data['Match'].plot.area(figsize=(10,5))\n",
    "\n",
    "plt.xlabel('Club')\n",
    "plt.ylabel('Score')\n",
    "plt.title('Score for Matchest')\n",
    "plt.xticks(rotation=0)\n",
    "plt.show()"
   ]
  }
 ],
 "metadata": {
  "kernelspec": {
   "display_name": "Python 3",
   "language": "python",
   "name": "python3"
  },
  "language_info": {
   "codemirror_mode": {
    "name": "ipython",
    "version": 3
   },
   "file_extension": ".py",
   "mimetype": "text/x-python",
   "name": "python",
   "nbconvert_exporter": "python",
   "pygments_lexer": "ipython3",
   "version": "3.12.0"
  }
 },
 "nbformat": 4,
 "nbformat_minor": 2
}
